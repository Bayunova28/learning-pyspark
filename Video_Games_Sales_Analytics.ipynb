{
  "nbformat": 4,
  "nbformat_minor": 0,
  "metadata": {
    "colab": {
      "provenance": []
    },
    "kernelspec": {
      "name": "python3",
      "display_name": "Python 3"
    },
    "language_info": {
      "name": "python"
    }
  },
  "cells": [
    {
      "cell_type": "code",
      "source": [
        "# Import library\n",
        "import pyspark\n",
        "from pyspark.sql import SparkSession\n",
        "from pyspark.sql.types import StructType, StructField, StringType, IntegerType\n",
        "from pyspark.sql.types import *"
      ],
      "metadata": {
        "id": "FIzwzI0TYIkx"
      },
      "execution_count": 24,
      "outputs": []
    },
    {
      "cell_type": "code",
      "source": [
        "# Load dataset\n",
        "df = spark.read.load(\"/content/vgsales.csv\",format=\"csv\", sep=\",\", inferSchema=\"true\", header=\"true\")\n",
        "df.show(5)"
      ],
      "metadata": {
        "colab": {
          "base_uri": "https://localhost:8080/"
        },
        "id": "-x_SPF_Zaq2H",
        "outputId": "00146f3c-ad14-4bd3-bc50-519ec836dc06"
      },
      "execution_count": 7,
      "outputs": [
        {
          "output_type": "stream",
          "name": "stdout",
          "text": [
            "+----+--------------------+--------+----+------------+---------+--------+--------+--------+-----------+------------+\n",
            "|Rank|                Name|Platform|Year|       Genre|Publisher|NA_Sales|EU_Sales|JP_Sales|Other_Sales|Global_Sales|\n",
            "+----+--------------------+--------+----+------------+---------+--------+--------+--------+-----------+------------+\n",
            "|   1|          Wii Sports|     Wii|2006|      Sports| Nintendo|   41.49|   29.02|    3.77|       8.46|       82.74|\n",
            "|   2|   Super Mario Bros.|     NES|1985|    Platform| Nintendo|   29.08|    3.58|    6.81|       0.77|       40.24|\n",
            "|   3|      Mario Kart Wii|     Wii|2008|      Racing| Nintendo|   15.85|   12.88|    3.79|       3.31|       35.82|\n",
            "|   4|   Wii Sports Resort|     Wii|2009|      Sports| Nintendo|   15.75|   11.01|    3.28|       2.96|        33.0|\n",
            "|   5|Pokemon Red/Pokem...|      GB|1996|Role-Playing| Nintendo|   11.27|    8.89|   10.22|        1.0|       31.37|\n",
            "+----+--------------------+--------+----+------------+---------+--------+--------+--------+-----------+------------+\n",
            "only showing top 5 rows\n",
            "\n"
          ]
        }
      ]
    },
    {
      "cell_type": "code",
      "source": [
        "# Check dataframe schema\n",
        "df.printSchema()"
      ],
      "metadata": {
        "colab": {
          "base_uri": "https://localhost:8080/"
        },
        "id": "qcnuljCvbdL3",
        "outputId": "658872fc-4d91-4cc7-b0b9-23d582e0c50c"
      },
      "execution_count": 8,
      "outputs": [
        {
          "output_type": "stream",
          "name": "stdout",
          "text": [
            "root\n",
            " |-- Rank: integer (nullable = true)\n",
            " |-- Name: string (nullable = true)\n",
            " |-- Platform: string (nullable = true)\n",
            " |-- Year: string (nullable = true)\n",
            " |-- Genre: string (nullable = true)\n",
            " |-- Publisher: string (nullable = true)\n",
            " |-- NA_Sales: double (nullable = true)\n",
            " |-- EU_Sales: double (nullable = true)\n",
            " |-- JP_Sales: double (nullable = true)\n",
            " |-- Other_Sales: double (nullable = true)\n",
            " |-- Global_Sales: double (nullable = true)\n",
            "\n"
          ]
        }
      ]
    },
    {
      "cell_type": "code",
      "source": [
        "# Check missing values\n",
        "df_null = {col:df.filter(df[col].isNull()).count() for col in df.columns}\n",
        "df_null"
      ],
      "metadata": {
        "colab": {
          "base_uri": "https://localhost:8080/"
        },
        "id": "Txtc53uBg3n7",
        "outputId": "c58bf6cf-fc3b-4340-9197-58cc0ebb7217"
      },
      "execution_count": 15,
      "outputs": [
        {
          "output_type": "execute_result",
          "data": {
            "text/plain": [
              "{'Rank': 0,\n",
              " 'Name': 0,\n",
              " 'Platform': 0,\n",
              " 'Year': 0,\n",
              " 'Genre': 0,\n",
              " 'Publisher': 0,\n",
              " 'NA_Sales': 0,\n",
              " 'EU_Sales': 0,\n",
              " 'JP_Sales': 0,\n",
              " 'Other_Sales': 0,\n",
              " 'Global_Sales': 0}"
            ]
          },
          "metadata": {},
          "execution_count": 15
        }
      ]
    },
    {
      "cell_type": "code",
      "source": [
        "# Describe the dataset\n",
        "df.describe().show()"
      ],
      "metadata": {
        "colab": {
          "base_uri": "https://localhost:8080/"
        },
        "id": "ySlFnPhOcEju",
        "outputId": "c469ed92-4a60-4ff1-c521-1c5d1318b373"
      },
      "execution_count": 11,
      "outputs": [
        {
          "output_type": "stream",
          "name": "stdout",
          "text": [
            "+-------+-----------------+--------------------+--------+------------------+--------+---------------+-------------------+------------------+-------------------+--------------------+------------------+\n",
            "|summary|             Rank|                Name|Platform|              Year|   Genre|      Publisher|           NA_Sales|          EU_Sales|           JP_Sales|         Other_Sales|      Global_Sales|\n",
            "+-------+-----------------+--------------------+--------+------------------+--------+---------------+-------------------+------------------+-------------------+--------------------+------------------+\n",
            "|  count|            16598|               16598|   16598|             16598|   16598|          16598|              16598|             16598|              16598|               16598|             16598|\n",
            "|   mean|8300.605253645017|              1942.0|  2600.0|2006.4064433147546|    NULL|           NULL|0.26466742981084057|0.1466520062658483|0.07778166044101108|0.048063019640913515|  0.53744065550074|\n",
            "| stddev|  4791.8539328964|                NULL|     0.0| 5.828981114713253|    NULL|           NULL| 0.8166830292988798|0.5053512312869136| 0.3092906480822022| 0.18858840291271395|1.5550279355699066|\n",
            "|    min|                1|         '98 Koshien|    2600|              1980|  Action|10TACLE Studios|                0.0|               0.0|                0.0|                 0.0|              0.01|\n",
            "|    max|            16600|¡Shin Chan Flipa ...|    XOne|               N/A|Strategy|   responDESIGN|              41.49|             29.02|              10.22|               10.57|             82.74|\n",
            "+-------+-----------------+--------------------+--------+------------------+--------+---------------+-------------------+------------------+-------------------+--------------------+------------------+\n",
            "\n"
          ]
        }
      ]
    },
    {
      "cell_type": "code",
      "source": [
        "# Create database table\n",
        "df.createOrReplaceTempView(\"vgsales\")"
      ],
      "metadata": {
        "id": "XHc-JAWLgpB0"
      },
      "execution_count": 16,
      "outputs": []
    },
    {
      "cell_type": "code",
      "source": [
        "# Total Sales by Order Year\n",
        "q = \"\"\"\n",
        "  SELECT\n",
        "    Year,\n",
        "    ROUND(SUM(NA_Sales),2) AS `Total NA Sales`,\n",
        "    ROUND(SUM(EU_Sales),2) AS `Total EU Sales`,\n",
        "    ROUND(SUM(JP_Sales),2) AS `Total JP Sales`,\n",
        "    ROUND(SUM(Other_Sales),2) AS `Total Other Sales`,\n",
        "    ROUND(SUM(Global_Sales),2) AS `Total Global Sales`\n",
        "  FROM vgsales\n",
        "  GROUP BY Year\n",
        "  ORDER BY Year;\n",
        "\"\"\"\n",
        "spark.sql(q).show()"
      ],
      "metadata": {
        "colab": {
          "base_uri": "https://localhost:8080/"
        },
        "id": "somVFz6-l8Rq",
        "outputId": "0df243cb-a8e4-471e-bb4d-cc99e382d074"
      },
      "execution_count": 42,
      "outputs": [
        {
          "output_type": "stream",
          "name": "stdout",
          "text": [
            "+----+--------------+--------------+--------------+-----------------+------------------+\n",
            "|Year|Total NA Sales|Total EU Sales|Total JP Sales|Total Other Sales|Total Global Sales|\n",
            "+----+--------------+--------------+--------------+-----------------+------------------+\n",
            "|1980|         10.59|          0.67|           0.0|             0.12|             11.38|\n",
            "|1981|          33.4|          1.96|           0.0|             0.32|             35.77|\n",
            "|1982|         26.92|          1.65|           0.0|             0.31|             28.86|\n",
            "|1983|          7.76|           0.8|           8.1|             0.14|             16.79|\n",
            "|1984|         33.28|           2.1|         14.27|              0.7|             50.36|\n",
            "|1985|         33.73|          4.74|         14.56|             0.92|             53.94|\n",
            "|1986|          12.5|          2.84|         19.81|             1.93|             37.07|\n",
            "|1987|          8.46|          1.41|         11.63|              0.2|             21.74|\n",
            "|1988|         23.87|          6.59|         15.76|             0.99|             47.22|\n",
            "|1989|         45.15|          8.44|         18.36|              1.5|             73.45|\n",
            "|1990|         25.46|          7.63|         14.88|              1.4|             49.39|\n",
            "|1991|         12.76|          3.95|         14.78|             0.74|             32.23|\n",
            "|1992|         33.87|         11.71|         28.91|             1.65|             76.16|\n",
            "|1993|         15.12|          4.65|         25.33|             0.89|             45.98|\n",
            "|1994|         28.15|         14.88|         33.99|              2.2|             79.17|\n",
            "|1995|         24.82|          14.9|         45.75|             2.64|             88.11|\n",
            "|1996|         86.76|         47.26|         57.44|             7.69|            199.15|\n",
            "|1997|         94.75|         48.32|         48.87|             9.13|            200.98|\n",
            "|1998|        128.36|          66.9|         50.04|            11.03|            256.47|\n",
            "|1999|        126.06|         62.67|         52.34|            10.05|            251.27|\n",
            "+----+--------------+--------------+--------------+-----------------+------------------+\n",
            "only showing top 20 rows\n",
            "\n"
          ]
        }
      ]
    },
    {
      "cell_type": "code",
      "source": [
        "# Total Sales by Platform\n",
        "q = \"\"\"\n",
        "  SELECT\n",
        "    Platform,\n",
        "    ROUND(SUM(NA_Sales),2) AS `Total NA Sales`,\n",
        "    ROUND(SUM(EU_Sales),2) AS `Total EU Sales`,\n",
        "    ROUND(SUM(JP_Sales),2) AS `Total JP Sales`,\n",
        "    ROUND(SUM(Other_Sales),2) AS `Total Other Sales`,\n",
        "    ROUND(SUM(Global_Sales),2) AS `Total Global Sales`\n",
        "  FROM vgsales\n",
        "  GROUP BY Platform\n",
        "  ORDER BY Platform;\n",
        "\"\"\"\n",
        "spark.sql(q).show()"
      ],
      "metadata": {
        "colab": {
          "base_uri": "https://localhost:8080/"
        },
        "id": "E9R-pTA3oJAA",
        "outputId": "c7544169-86ca-4144-e9ca-fcf02f213224"
      },
      "execution_count": 44,
      "outputs": [
        {
          "output_type": "stream",
          "name": "stdout",
          "text": [
            "+--------+--------------+--------------+--------------+-----------------+------------------+\n",
            "|Platform|Total NA Sales|Total EU Sales|Total JP Sales|Total Other Sales|Total Global Sales|\n",
            "+--------+--------------+--------------+--------------+-----------------+------------------+\n",
            "|    2600|          90.6|          5.47|           0.0|             0.91|             97.08|\n",
            "|     3DO|           0.0|           0.0|           0.1|              0.0|               0.1|\n",
            "|     3DS|         78.87|         58.52|         97.35|            12.63|            247.46|\n",
            "|      DC|          5.43|          1.69|          8.56|             0.27|             15.97|\n",
            "|      DS|        390.71|        194.65|        175.57|            60.53|            822.49|\n",
            "|      GB|        114.32|         47.82|         85.12|              8.2|            255.45|\n",
            "|     GBA|        187.54|         75.25|         47.33|             7.73|             318.5|\n",
            "|      GC|        133.46|         38.71|         21.58|             5.18|            199.36|\n",
            "|     GEN|         19.27|          5.52|          2.67|             0.89|             28.36|\n",
            "|      GG|           0.0|           0.0|          0.04|              0.0|              0.04|\n",
            "|     N64|        139.02|         41.06|         34.22|             4.38|            218.88|\n",
            "|     NES|        125.94|         21.15|         98.65|             5.31|            251.07|\n",
            "|      NG|           0.0|           0.0|          1.44|              0.0|              1.44|\n",
            "|      PC|         93.28|        139.68|          0.17|            24.86|            258.82|\n",
            "|    PCFX|           0.0|           0.0|          0.03|              0.0|              0.03|\n",
            "|      PS|        336.51|         213.6|        139.82|            40.91|            730.66|\n",
            "|     PS2|        583.84|        339.29|         139.2|           193.44|           1255.64|\n",
            "|     PS3|        392.26|        343.71|         79.99|           141.93|            957.84|\n",
            "|     PS4|          96.8|         123.7|          14.3|            43.36|             278.1|\n",
            "|     PSP|        108.99|         68.25|         76.79|            42.19|            296.28|\n",
            "+--------+--------------+--------------+--------------+-----------------+------------------+\n",
            "only showing top 20 rows\n",
            "\n"
          ]
        }
      ]
    },
    {
      "cell_type": "code",
      "source": [
        "# Total Sales by Publisher\n",
        "q = \"\"\"\n",
        "  SELECT\n",
        "    Publisher,\n",
        "    ROUND(SUM(NA_Sales),2) AS `Total NA Sales`,\n",
        "    ROUND(SUM(EU_Sales),2) AS `Total EU Sales`,\n",
        "    ROUND(SUM(JP_Sales),2) AS `Total JP Sales`,\n",
        "    ROUND(SUM(Other_Sales),2) AS `Total Other Sales`,\n",
        "    ROUND(SUM(Global_Sales),2) AS `Total Global Sales`\n",
        "  FROM vgsales\n",
        "  GROUP BY Publisher\n",
        "  ORDER BY Publisher;\n",
        "\"\"\"\n",
        "spark.sql(q).show()"
      ],
      "metadata": {
        "colab": {
          "base_uri": "https://localhost:8080/"
        },
        "id": "HbQKAdTyqmWn",
        "outputId": "cda17370-b59c-427a-dc4d-d51760702ab4"
      },
      "execution_count": 50,
      "outputs": [
        {
          "output_type": "stream",
          "name": "stdout",
          "text": [
            "+--------------------+--------------+--------------+--------------+-----------------+------------------+\n",
            "|           Publisher|Total NA Sales|Total EU Sales|Total JP Sales|Total Other Sales|Total Global Sales|\n",
            "+--------------------+--------------+--------------+--------------+-----------------+------------------+\n",
            "|     10TACLE Studios|          0.07|          0.04|           0.0|              0.0|              0.11|\n",
            "|          1C Company|          0.01|          0.07|           0.0|             0.02|               0.1|\n",
            "|20th Century Fox ...|          1.82|           0.1|           0.0|             0.01|              1.94|\n",
            "|              2D Boy|           0.0|          0.03|           0.0|             0.01|              0.04|\n",
            "|                 3DO|          6.48|          3.04|           0.0|             0.63|             10.12|\n",
            "|             49Games|           0.0|          0.04|           0.0|              0.0|              0.04|\n",
            "|           505 Games|         31.83|         16.43|          2.05|             5.44|             55.91|\n",
            "|                 5pb|          0.02|           0.0|          1.61|              0.0|              1.63|\n",
            "|            7G//AMES|           0.0|          0.06|           0.0|              0.0|              0.08|\n",
            "|          989 Sports|          0.21|          0.14|           0.0|             0.02|              0.38|\n",
            "|         989 Studios|          9.23|           3.3|           0.1|             0.67|             13.32|\n",
            "|      AQ Interactive|          0.34|          0.06|          0.11|             0.05|              0.53|\n",
            "|           ASC Games|          1.12|          0.77|           0.0|             0.13|              2.02|\n",
            "| ASCII Entertainment|           0.7|          0.44|           9.4|             0.36|             10.89|\n",
            "|   ASCII Media Works|           0.0|           0.0|          0.27|              0.0|              0.27|\n",
            "|                 ASK|           0.0|           0.0|          0.03|              0.0|              0.03|\n",
            "|            Abylight|          0.07|           0.0|           0.0|             0.01|              0.08|\n",
            "|Acclaim Entertain...|         42.75|         16.75|          1.14|             3.37|             64.14|\n",
            "|            Accolade|          1.25|          0.34|           0.0|             0.07|              1.68|\n",
            "|         Ackkstudios|          0.13|          0.04|          0.66|             0.01|              0.84|\n",
            "+--------------------+--------------+--------------+--------------+-----------------+------------------+\n",
            "only showing top 20 rows\n",
            "\n"
          ]
        }
      ]
    },
    {
      "cell_type": "code",
      "source": [
        "# Total Sales by Genre\n",
        "q = \"\"\"\n",
        "  SELECT\n",
        "    Genre,\n",
        "    ROUND(SUM(NA_Sales),2) AS `Total NA Sales`,\n",
        "    ROUND(SUM(EU_Sales),2) AS `Total EU Sales`,\n",
        "    ROUND(SUM(JP_Sales),2) AS `Total JP Sales`,\n",
        "    ROUND(SUM(Other_Sales),2) AS `Total Other Sales`,\n",
        "    ROUND(SUM(Global_Sales),2) AS `Total Global Sales`\n",
        "  FROM vgsales\n",
        "  GROUP BY Genre\n",
        "  ORDER BY Genre;\n",
        "\"\"\"\n",
        "spark.sql(q).show()"
      ],
      "metadata": {
        "colab": {
          "base_uri": "https://localhost:8080/"
        },
        "id": "BIKTaD6prIfn",
        "outputId": "5544138f-fb07-4f5f-cc33-06e654ce4a6c"
      },
      "execution_count": 54,
      "outputs": [
        {
          "output_type": "stream",
          "name": "stdout",
          "text": [
            "+------------+--------------+--------------+--------------+-----------------+------------------+\n",
            "|       Genre|Total NA Sales|Total EU Sales|Total JP Sales|Total Other Sales|Total Global Sales|\n",
            "+------------+--------------+--------------+--------------+-----------------+------------------+\n",
            "|      Action|        877.83|         525.0|        159.95|           187.38|           1751.18|\n",
            "|   Adventure|         105.8|         64.13|         52.07|            16.81|            239.04|\n",
            "|    Fighting|        223.59|        101.32|         87.35|            36.68|            448.91|\n",
            "|        Misc|        410.24|        215.98|        107.76|            75.32|            809.96|\n",
            "|    Platform|        447.05|        201.63|        130.77|            51.59|            831.37|\n",
            "|      Puzzle|        123.78|         50.78|         57.31|            12.55|            244.95|\n",
            "|      Racing|        359.42|        238.39|         56.69|            77.27|            732.04|\n",
            "|Role-Playing|        327.28|        188.06|        352.31|            59.61|            927.37|\n",
            "|     Shooter|         582.6|        313.27|         38.28|           102.69|           1037.37|\n",
            "|  Simulation|        183.31|        113.38|          63.7|            31.52|             392.2|\n",
            "|      Sports|        683.35|        376.85|        135.37|           134.97|           1330.93|\n",
            "|    Strategy|          68.7|         45.34|         49.46|            11.36|            175.12|\n",
            "+------------+--------------+--------------+--------------+-----------------+------------------+\n",
            "\n"
          ]
        }
      ]
    },
    {
      "cell_type": "code",
      "source": [
        "# Total Global Sales by Platform & Genre\n",
        "q = \"\"\"\n",
        "  SELECT\n",
        "    Platform,\n",
        "    Genre,\n",
        "    ROUND(SUM(Global_Sales),2) AS `Total Global Sales`\n",
        "  FROM vgsales\n",
        "  GROUP BY Platform, Genre\n",
        "  ORDER BY `Total Global Sales` DESC;\n",
        "\"\"\"\n",
        "spark.sql(q).show()"
      ],
      "metadata": {
        "colab": {
          "base_uri": "https://localhost:8080/"
        },
        "id": "wPgz9lsysHuY",
        "outputId": "af32b68f-be01-4d7c-e6b2-8a3665a4a4f9"
      },
      "execution_count": 55,
      "outputs": [
        {
          "output_type": "stream",
          "name": "stdout",
          "text": [
            "+--------+------------+------------------+\n",
            "|Platform|       Genre|Total Global Sales|\n",
            "+--------+------------+------------------+\n",
            "|     PS3|      Action|            307.88|\n",
            "|     Wii|      Sports|            292.06|\n",
            "|    X360|     Shooter|            278.55|\n",
            "|     PS2|      Sports|            273.41|\n",
            "|     PS2|      Action|            272.76|\n",
            "|    X360|      Action|            242.67|\n",
            "|     Wii|        Misc|            221.06|\n",
            "|     PS3|     Shooter|            196.04|\n",
            "|     PS2|      Racing|            156.28|\n",
            "|    X360|      Sports|            139.12|\n",
            "|      DS|        Misc|            137.76|\n",
            "|     PS3|      Sports|            135.56|\n",
            "|      DS|  Simulation|            132.03|\n",
            "|      PS|      Action|            127.05|\n",
            "|      DS|Role-Playing|            126.85|\n",
            "|      PS|      Sports|            120.97|\n",
            "|     Wii|      Action|            118.58|\n",
            "|      DS|      Action|            115.56|\n",
            "|     PS2|     Shooter|            108.57|\n",
            "|      PS|      Racing|            103.19|\n",
            "+--------+------------+------------------+\n",
            "only showing top 20 rows\n",
            "\n"
          ]
        }
      ]
    },
    {
      "cell_type": "code",
      "source": [
        "# Total Global Sales by Publisher & Genre\n",
        "q = \"\"\"\n",
        "  SELECT\n",
        "    Publisher,\n",
        "    Genre,\n",
        "    ROUND(SUM(Global_Sales),2) AS `Total Global Sales`\n",
        "  FROM vgsales\n",
        "  GROUP BY Publisher, Genre\n",
        "  ORDER BY `Total Global Sales` DESC;\n",
        "\"\"\"\n",
        "spark.sql(q).show()"
      ],
      "metadata": {
        "colab": {
          "base_uri": "https://localhost:8080/"
        },
        "id": "96V2-lViummA",
        "outputId": "ddbcbe9f-6900-4df9-8c99-998b2843357a"
      },
      "execution_count": 56,
      "outputs": [
        {
          "output_type": "stream",
          "name": "stdout",
          "text": [
            "+--------------------+------------+------------------+\n",
            "|           Publisher|       Genre|Total Global Sales|\n",
            "+--------------------+------------+------------------+\n",
            "|     Electronic Arts|      Sports|            479.67|\n",
            "|            Nintendo|    Platform|            427.21|\n",
            "|          Activision|     Shooter|            299.87|\n",
            "|            Nintendo|Role-Playing|             284.9|\n",
            "|            Nintendo|      Sports|            218.01|\n",
            "|Take-Two Interactive|      Action|            211.08|\n",
            "|            Nintendo|        Misc|            180.67|\n",
            "|     Electronic Arts|     Shooter|            158.26|\n",
            "|            Nintendo|      Racing|             151.3|\n",
            "|     Electronic Arts|      Racing|            145.77|\n",
            "|             Ubisoft|      Action|            142.94|\n",
            "|          Activision|      Action|            142.33|\n",
            "|            Nintendo|      Action|            128.18|\n",
            "|            Nintendo|      Puzzle|            124.88|\n",
            "|Warner Bros. Inte...|      Action|            118.24|\n",
            "|     Electronic Arts|      Action|            115.54|\n",
            "|Sony Computer Ent...|      Racing|            110.57|\n",
            "|Sony Computer Ent...|    Platform|            104.06|\n",
            "|Konami Digital En...|      Sports|             98.95|\n",
            "|             Ubisoft|        Misc|             97.53|\n",
            "+--------------------+------------+------------------+\n",
            "only showing top 20 rows\n",
            "\n"
          ]
        }
      ]
    },
    {
      "cell_type": "code",
      "source": [
        "# Total Global Sales by Platform & Genre order on 1999 and publisher is nintendo\n",
        "q = \"\"\"\n",
        "  SELECT\n",
        "    Platform,\n",
        "    Genre,\n",
        "    ROUND(SUM(Global_Sales),2) AS `Total Global Sales`\n",
        "  FROM vgsales\n",
        "  WHERE Year = 1999 AND Publisher = 'Nintendo'\n",
        "  GROUP BY Platform, Genre\n",
        "  ORDER BY `Total Global Sales` DESC;\n",
        "\"\"\"\n",
        "spark.sql(q).show()"
      ],
      "metadata": {
        "colab": {
          "base_uri": "https://localhost:8080/"
        },
        "id": "StxLKcdeuxlY",
        "outputId": "a5c2fa91-c8ba-4b27-913b-5a42b8922ffa"
      },
      "execution_count": 58,
      "outputs": [
        {
          "output_type": "stream",
          "name": "stdout",
          "text": [
            "+--------+------------+------------------+\n",
            "|Platform|       Genre|Total Global Sales|\n",
            "+--------+------------+------------------+\n",
            "|      GB|Role-Playing|              23.1|\n",
            "|      GB|        Misc|              6.53|\n",
            "|     N64|    Strategy|              5.72|\n",
            "|     N64|    Fighting|              5.55|\n",
            "|     N64|    Platform|              5.27|\n",
            "|      GB|    Platform|              5.07|\n",
            "|     N64|  Simulation|              3.63|\n",
            "|     N64|      Racing|              3.52|\n",
            "|     N64|        Misc|               2.5|\n",
            "|     N64|      Action|              1.47|\n",
            "|     N64|     Shooter|              1.16|\n",
            "|     N64|      Sports|              0.54|\n",
            "|     N64|Role-Playing|              0.41|\n",
            "|      GB|      Action|              0.31|\n",
            "|     N64|      Puzzle|              0.29|\n",
            "|    SNES|    Strategy|              0.26|\n",
            "+--------+------------+------------------+\n",
            "\n"
          ]
        }
      ]
    },
    {
      "cell_type": "code",
      "source": [
        "# Total Global Sales by Publisher & Genre order between 1980 and 1985 along with genre is sports\n",
        "q = \"\"\"\n",
        "  SELECT\n",
        "    Publisher,\n",
        "    Genre,\n",
        "    ROUND(SUM(Global_Sales),2) AS `Total Global Sales`\n",
        "  FROM vgsales\n",
        "  WHERE Year BETWEEN 1980 AND 1985 AND Genre = 'Sports'\n",
        "  GROUP BY Publisher, Genre\n",
        "  ORDER BY `Total Global Sales` DESC;\n",
        "\"\"\"\n",
        "spark.sql(q).show()"
      ],
      "metadata": {
        "colab": {
          "base_uri": "https://localhost:8080/"
        },
        "id": "epqXAByvyNNO",
        "outputId": "22598392-5924-4022-ad7a-60bf70e14a9c"
      },
      "execution_count": 59,
      "outputs": [
        {
          "output_type": "stream",
          "name": "stdout",
          "text": [
            "+------------------+------+------------------+\n",
            "|         Publisher| Genre|Total Global Sales|\n",
            "+------------------+------+------------------+\n",
            "|          Nintendo|Sports|             11.34|\n",
            "|             Atari|Sports|               1.1|\n",
            "|        Activision|Sports|              1.04|\n",
            "|Mattel Interactive|Sports|              0.19|\n",
            "+------------------+------+------------------+\n",
            "\n"
          ]
        }
      ]
    }
  ]
}