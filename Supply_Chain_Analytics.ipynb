{
  "nbformat": 4,
  "nbformat_minor": 0,
  "metadata": {
    "colab": {
      "provenance": []
    },
    "kernelspec": {
      "name": "python3",
      "display_name": "Python 3"
    },
    "language_info": {
      "name": "python"
    }
  },
  "cells": [
    {
      "cell_type": "code",
      "execution_count": 47,
      "metadata": {
        "id": "Y-dHuEyEgLS4"
      },
      "outputs": [],
      "source": [
        "# Import library\n",
        "import pyspark\n",
        "from pyspark.sql import SparkSession\n",
        "from pyspark.sql.types import StructType, StructField, StringType, IntegerType\n",
        "from pyspark.sql.types import *"
      ]
    },
    {
      "cell_type": "code",
      "source": [
        "# Create a SparkSession\n",
        "spark = SparkSession.builder.appName(\"SupplyChain\").getOrCreate()\n",
        "\n",
        "# Load dataset\n",
        "df = spark.read.load(\"/content/supply_chain_data.csv\",format=\"csv\", sep=\",\", inferSchema=\"true\", header=\"true\")\n",
        "df.show(5)"
      ],
      "metadata": {
        "colab": {
          "base_uri": "https://localhost:8080/"
        },
        "id": "-jFtlF7IirpX",
        "outputId": "a5ce6ec5-22cb-4762-ee42-d7b4155748ad"
      },
      "execution_count": 48,
      "outputs": [
        {
          "output_type": "stream",
          "name": "stdout",
          "text": [
            "+------------+----+------------------+------------+-----------------------+-----------------+---------------------+------------+----------+----------------+--------------+-----------------+------------------+-------------+--------+---------+------------------+-----------------------+-------------------+------------------+-------------------+--------------------+-------+------------------+\n",
            "|Product type| SKU|             Price|Availability|Number of products sold|Revenue generated|Customer demographics|Stock levels|Lead times|Order quantities|Shipping times|Shipping carriers|    Shipping costs|Supplier name|Location|Lead time|Production volumes|Manufacturing lead time|Manufacturing costs|Inspection results|       Defect rates|Transportation modes| Routes|             Costs|\n",
            "+------------+----+------------------+------------+-----------------------+-----------------+---------------------+------------+----------+----------------+--------------+-----------------+------------------+-------------+--------+---------+------------------+-----------------------+-------------------+------------------+-------------------+--------------------+-------+------------------+\n",
            "|    haircare|SKU0| 69.80800554211577|          55|                    802|8661.996792392383|           Non-binary|          58|         7|              96|             4|        Carrier B| 2.956572139430807|   Supplier 3|  Mumbai|       29|               215|                     29|  46.27987924050832|           Pending|0.22641036084992516|                Road|Route B|187.75207545920392|\n",
            "|    skincare|SKU1|14.843523275084339|          95|                    736|7460.900065445849|               Female|          53|        30|              37|             2|        Carrier A|  9.71657477143131|   Supplier 3|  Mumbai|       23|               517|                     30|     33.61676895373|           Pending|  4.854068026388706|                Road|Route B| 503.0655791496692|\n",
            "|    haircare|SKU2|11.319683293090566|          34|                      8| 9577.74962586873|              Unknown|           1|        10|              88|             2|        Carrier B| 8.054479261732155|   Supplier 1|  Mumbai|       12|               971|                     27| 30.688019348284204|           Pending|  4.580592619199229|                 Air|Route C|141.92028177151906|\n",
            "|    skincare|SKU3|61.163343016437736|          68|                     83|7766.836425685233|           Non-binary|          23|        13|              59|             6|        Carrier C|1.7295685635434288|   Supplier 5| Kolkata|       24|               937|                     18|  35.62474139712503|              Fail|   4.74664862064775|                Rail|Route A|254.77615921928663|\n",
            "|    skincare|SKU4| 4.805496036345893|          26|                    871|2686.505151567447|           Non-binary|           5|         3|              56|             8|        Carrier A|3.8905479158706715|   Supplier 1|   Delhi|        5|               414|                      3|  92.06516059871285|              Fail|  3.145579522833002|                 Air|Route A| 923.4406317119222|\n",
            "+------------+----+------------------+------------+-----------------------+-----------------+---------------------+------------+----------+----------------+--------------+-----------------+------------------+-------------+--------+---------+------------------+-----------------------+-------------------+------------------+-------------------+--------------------+-------+------------------+\n",
            "only showing top 5 rows\n",
            "\n"
          ]
        }
      ]
    },
    {
      "cell_type": "code",
      "source": [
        "# Check dataframe schema\n",
        "df.printSchema()"
      ],
      "metadata": {
        "colab": {
          "base_uri": "https://localhost:8080/"
        },
        "id": "3a1WoArljPbw",
        "outputId": "1acad88e-f7a6-4d72-f031-2425d522ebd3"
      },
      "execution_count": 49,
      "outputs": [
        {
          "output_type": "stream",
          "name": "stdout",
          "text": [
            "root\n",
            " |-- Product type: string (nullable = true)\n",
            " |-- SKU: string (nullable = true)\n",
            " |-- Price: double (nullable = true)\n",
            " |-- Availability: integer (nullable = true)\n",
            " |-- Number of products sold: integer (nullable = true)\n",
            " |-- Revenue generated: double (nullable = true)\n",
            " |-- Customer demographics: string (nullable = true)\n",
            " |-- Stock levels: integer (nullable = true)\n",
            " |-- Lead times: integer (nullable = true)\n",
            " |-- Order quantities: integer (nullable = true)\n",
            " |-- Shipping times: integer (nullable = true)\n",
            " |-- Shipping carriers: string (nullable = true)\n",
            " |-- Shipping costs: double (nullable = true)\n",
            " |-- Supplier name: string (nullable = true)\n",
            " |-- Location: string (nullable = true)\n",
            " |-- Lead time: integer (nullable = true)\n",
            " |-- Production volumes: integer (nullable = true)\n",
            " |-- Manufacturing lead time: integer (nullable = true)\n",
            " |-- Manufacturing costs: double (nullable = true)\n",
            " |-- Inspection results: string (nullable = true)\n",
            " |-- Defect rates: double (nullable = true)\n",
            " |-- Transportation modes: string (nullable = true)\n",
            " |-- Routes: string (nullable = true)\n",
            " |-- Costs: double (nullable = true)\n",
            "\n"
          ]
        }
      ]
    },
    {
      "cell_type": "code",
      "source": [
        "# Check missing values\n",
        "df_null = {col:df.filter(df[col].isNull()).count() for col in df.columns}\n",
        "df_null"
      ],
      "metadata": {
        "colab": {
          "base_uri": "https://localhost:8080/"
        },
        "id": "zaCs3vwJjRKP",
        "outputId": "c654689e-3a5a-423d-af8f-1f2666045764"
      },
      "execution_count": 50,
      "outputs": [
        {
          "output_type": "execute_result",
          "data": {
            "text/plain": [
              "{'Product type': 0,\n",
              " 'SKU': 0,\n",
              " 'Price': 0,\n",
              " 'Availability': 0,\n",
              " 'Number of products sold': 0,\n",
              " 'Revenue generated': 0,\n",
              " 'Customer demographics': 0,\n",
              " 'Stock levels': 0,\n",
              " 'Lead times': 0,\n",
              " 'Order quantities': 0,\n",
              " 'Shipping times': 0,\n",
              " 'Shipping carriers': 0,\n",
              " 'Shipping costs': 0,\n",
              " 'Supplier name': 0,\n",
              " 'Location': 0,\n",
              " 'Lead time': 0,\n",
              " 'Production volumes': 0,\n",
              " 'Manufacturing lead time': 0,\n",
              " 'Manufacturing costs': 0,\n",
              " 'Inspection results': 0,\n",
              " 'Defect rates': 0,\n",
              " 'Transportation modes': 0,\n",
              " 'Routes': 0,\n",
              " 'Costs': 0}"
            ]
          },
          "metadata": {},
          "execution_count": 50
        }
      ]
    },
    {
      "cell_type": "code",
      "source": [
        "# Create database table\n",
        "df.createOrReplaceTempView(\"SupplyChain\")"
      ],
      "metadata": {
        "id": "icqvbXVTtX4F"
      },
      "execution_count": 51,
      "outputs": []
    },
    {
      "cell_type": "code",
      "source": [
        "# Total Revenue by Location and Product Type\n",
        "q = \"\"\"\n",
        "  SELECT\n",
        "    Location,\n",
        "    `Product Type`,\n",
        "    ROUND(SUM(`Revenue generated`),2) AS `Total Revenue`\n",
        "  FROM SupplyChain\n",
        "  GROUP BY Location, `Product Type`\n",
        "  ORDER BY `Total Revenue` DESC;\n",
        "\"\"\"\n",
        "spark.sql(q).show()"
      ],
      "metadata": {
        "colab": {
          "base_uri": "https://localhost:8080/"
        },
        "id": "OBN5979-sNbO",
        "outputId": "05cf9778-3f7f-4772-e731-c59586c2936d"
      },
      "execution_count": 57,
      "outputs": [
        {
          "output_type": "stream",
          "name": "stdout",
          "text": [
            "+---------+------------+-------------+\n",
            "| Location|Product Type|Total Revenue|\n",
            "+---------+------------+-------------+\n",
            "|  Kolkata|    skincare|     77886.27|\n",
            "|  Chennai|    skincare|     58957.42|\n",
            "|Bangalore|    haircare|     51654.35|\n",
            "|   Mumbai|   cosmetics|     49156.51|\n",
            "|   Mumbai|    haircare|     44423.98|\n",
            "|   Mumbai|    skincare|     44174.54|\n",
            "|    Delhi|   cosmetics|     37429.68|\n",
            "|  Kolkata|    haircare|     35027.71|\n",
            "|Bangalore|    skincare|     31637.82|\n",
            "|  Chennai|   cosmetics|     31461.95|\n",
            "|    Delhi|    skincare|     28972.12|\n",
            "|  Chennai|    haircare|     28723.45|\n",
            "|  Kolkata|   cosmetics|     24163.57|\n",
            "|Bangalore|   cosmetics|     19309.56|\n",
            "|    Delhi|    haircare|      14625.9|\n",
            "+---------+------------+-------------+\n",
            "\n"
          ]
        }
      ]
    },
    {
      "cell_type": "code",
      "source": [
        "# Total Revenue by Product Type and Customer Demographics\n",
        "q = \"\"\"\n",
        "  SELECT\n",
        "    `Product Type`,\n",
        "    `Customer Demographics`,\n",
        "    ROUND(SUM(`Revenue generated`),2) AS `Total Revenue`\n",
        "  FROM SupplyChain\n",
        "  WHERE `Customer Demographics` IN('Male','Female')\n",
        "  GROUP BY `Product Type`, `Customer Demographics`\n",
        "  ORDER BY `Total Revenue` DESC;\n",
        "\"\"\"\n",
        "spark.sql(q).show()"
      ],
      "metadata": {
        "colab": {
          "base_uri": "https://localhost:8080/"
        },
        "id": "gd2KjkGKtq-N",
        "outputId": "dc10272f-8c5b-4b75-ac6c-7ba4c03d47ab"
      },
      "execution_count": 60,
      "outputs": [
        {
          "output_type": "stream",
          "name": "stdout",
          "text": [
            "+------------+---------------------+-------------+\n",
            "|Product Type|Customer Demographics|Total Revenue|\n",
            "+------------+---------------------+-------------+\n",
            "|    skincare|               Female|     79241.11|\n",
            "|   cosmetics|               Female|     69548.54|\n",
            "|    skincare|                 Male|      54643.5|\n",
            "|    haircare|                 Male|     50599.93|\n",
            "|   cosmetics|                 Male|     21390.97|\n",
            "|    haircare|               Female|     12724.83|\n",
            "+------------+---------------------+-------------+\n",
            "\n"
          ]
        }
      ]
    },
    {
      "cell_type": "code",
      "source": [
        "# Total Revenue by Routes and Product Type\n",
        "q = \"\"\"\n",
        "  SELECT\n",
        "    Routes,\n",
        "    `Product Type`,\n",
        "    ROUND(SUM(`Revenue generated`),2) AS `Total Revenue`\n",
        "  FROM SupplyChain\n",
        "  GROUP BY Routes, `Product Type`\n",
        "  ORDER BY `Total Revenue` DESC;\n",
        "\"\"\"\n",
        "spark.sql(q).show()"
      ],
      "metadata": {
        "colab": {
          "base_uri": "https://localhost:8080/"
        },
        "id": "FvzSIlp8yt5N",
        "outputId": "e8b50447-70e5-42f1-b2ba-3b6e585bd84d"
      },
      "execution_count": 61,
      "outputs": [
        {
          "output_type": "stream",
          "name": "stdout",
          "text": [
            "+-------+------------+-------------+\n",
            "| Routes|Product Type|Total Revenue|\n",
            "+-------+------------+-------------+\n",
            "|Route A|    skincare|     96012.38|\n",
            "|Route A|    haircare|     87610.87|\n",
            "|Route B|    skincare|     85278.42|\n",
            "|Route A|   cosmetics|      69575.6|\n",
            "|Route B|   cosmetics|     63292.04|\n",
            "|Route C|    skincare|     60337.36|\n",
            "|Route B|    haircare|     55913.55|\n",
            "|Route C|    haircare|     30930.97|\n",
            "|Route C|   cosmetics|     28653.63|\n",
            "+-------+------------+-------------+\n",
            "\n"
          ]
        }
      ]
    },
    {
      "cell_type": "code",
      "source": [
        "# Total Revenue by Product Type\n",
        "q = \"\"\"\n",
        "  SELECT\n",
        "    `Product Type`,\n",
        "    ROUND(SUM(`Revenue generated`),2) AS `Total Revenue`\n",
        "  FROM SupplyChain\n",
        "  GROUP BY `Product Type`\n",
        "  ORDER BY `Total Revenue` DESC;\n",
        "\"\"\"\n",
        "spark.sql(q).show()"
      ],
      "metadata": {
        "colab": {
          "base_uri": "https://localhost:8080/"
        },
        "id": "c_XXOf0n0_id",
        "outputId": "1bd56225-9ee0-448e-e778-bba4b18bfacc"
      },
      "execution_count": 62,
      "outputs": [
        {
          "output_type": "stream",
          "name": "stdout",
          "text": [
            "+------------+-------------+\n",
            "|Product Type|Total Revenue|\n",
            "+------------+-------------+\n",
            "|    skincare|    241628.16|\n",
            "|    haircare|    174455.39|\n",
            "|   cosmetics|    161521.27|\n",
            "+------------+-------------+\n",
            "\n"
          ]
        }
      ]
    },
    {
      "cell_type": "code",
      "source": [
        "# Total Revenue by Transportation Modes and Product Type\n",
        "q = \"\"\"\n",
        "  SELECT\n",
        "    `Transportation Modes`,\n",
        "    `Product Type`,\n",
        "    ROUND(SUM(`Revenue generated`),2) AS `Total Revenue`\n",
        "  FROM SupplyChain\n",
        "  GROUP BY `Transportation Modes`, `Product Type`\n",
        "  ORDER BY `Total Revenue` DESC;\n",
        "\"\"\"\n",
        "spark.sql(q).show()"
      ],
      "metadata": {
        "colab": {
          "base_uri": "https://localhost:8080/"
        },
        "id": "_GVyQDmb19PL",
        "outputId": "fcaf32e5-88e8-4bf0-c0d1-3c6f07a9935d"
      },
      "execution_count": 63,
      "outputs": [
        {
          "output_type": "stream",
          "name": "stdout",
          "text": [
            "+--------------------+------------+-------------+\n",
            "|Transportation Modes|Product Type|Total Revenue|\n",
            "+--------------------+------------+-------------+\n",
            "|                 Air|    skincare|     76043.02|\n",
            "|                Rail|    skincare|     66049.43|\n",
            "|                Road|    skincare|     55928.18|\n",
            "|                Road|    haircare|     54097.78|\n",
            "|                 Air|    haircare|     53104.62|\n",
            "|                Rail|   cosmetics|     50404.65|\n",
            "|                Road|   cosmetics|     49289.27|\n",
            "|                Rail|    haircare|     48536.33|\n",
            "|                 Sea|    skincare|     43607.53|\n",
            "|                 Sea|   cosmetics|     35239.64|\n",
            "|                 Air|   cosmetics|     26587.71|\n",
            "|                 Sea|    haircare|     18716.65|\n",
            "+--------------------+------------+-------------+\n",
            "\n"
          ]
        }
      ]
    },
    {
      "cell_type": "code",
      "source": [
        "# Total Costs by Transportation Modes and Product Type\n",
        "q = \"\"\"\n",
        "  SELECT\n",
        "    `Transportation Modes`,\n",
        "    `Product Type`,\n",
        "    ROUND(SUM(Costs),2) AS `Total Costs`\n",
        "  FROM SupplyChain\n",
        "  GROUP BY `Transportation Modes`, `Product Type`\n",
        "  ORDER BY `Total Costs` DESC;\n",
        "\"\"\"\n",
        "spark.sql(q).show()"
      ],
      "metadata": {
        "colab": {
          "base_uri": "https://localhost:8080/"
        },
        "id": "wIBw_WGp4KTo",
        "outputId": "d6f7531c-29a1-4cc3-e0d9-f492889b7590"
      },
      "execution_count": 64,
      "outputs": [
        {
          "output_type": "stream",
          "name": "stdout",
          "text": [
            "+--------------------+------------+-----------+\n",
            "|Transportation Modes|Product Type|Total Costs|\n",
            "+--------------------+------------+-----------+\n",
            "|                 Air|    skincare|    8434.14|\n",
            "|                Road|    haircare|    6313.23|\n",
            "|                Road|    skincare|     5864.9|\n",
            "|                Rail|    skincare|    5564.25|\n",
            "|                Rail|   cosmetics|     4908.9|\n",
            "|                Rail|    haircare|    4695.78|\n",
            "|                 Air|    haircare|    4200.41|\n",
            "|                Road|   cosmetics|    3870.06|\n",
            "|                 Sea|   cosmetics|    2617.45|\n",
            "|                 Sea|    skincare|    2366.03|\n",
            "|                 Sea|    haircare|    2119.44|\n",
            "|                 Air|   cosmetics|    1969.98|\n",
            "+--------------------+------------+-----------+\n",
            "\n"
          ]
        }
      ]
    },
    {
      "cell_type": "code",
      "source": [
        "# Total Costs by Product Type\n",
        "q = \"\"\"\n",
        "  SELECT\n",
        "    `Product Type`,\n",
        "    ROUND(SUM(Costs),2) AS `Total Costs`\n",
        "  FROM SupplyChain\n",
        "  GROUP BY `Product Type`\n",
        "  ORDER BY `Total Costs` DESC;\n",
        "\"\"\"\n",
        "spark.sql(q).show()"
      ],
      "metadata": {
        "colab": {
          "base_uri": "https://localhost:8080/"
        },
        "id": "kKGvZWMa4aLp",
        "outputId": "ba090964-5a4e-4d24-f364-b896eca9a38a"
      },
      "execution_count": 65,
      "outputs": [
        {
          "output_type": "stream",
          "name": "stdout",
          "text": [
            "+------------+-----------+\n",
            "|Product Type|Total Costs|\n",
            "+------------+-----------+\n",
            "|    skincare|   22229.32|\n",
            "|    haircare|   17328.86|\n",
            "|   cosmetics|    13366.4|\n",
            "+------------+-----------+\n",
            "\n"
          ]
        }
      ]
    },
    {
      "cell_type": "code",
      "source": [
        "# Total Products Sold by Product Type at Bangalore\n",
        "q = \"\"\"\n",
        "  SELECT\n",
        "    `Product Type`,\n",
        "    ROUND(SUM(`Number of products sold`),2) AS `Total Products Sold`\n",
        "  FROM SupplyChain\n",
        "  WHERE Location = 'Bangalore'\n",
        "  GROUP BY `Product Type`\n",
        "  ORDER BY `Total Products Sold` DESC;\n",
        "\"\"\"\n",
        "spark.sql(q).show()"
      ],
      "metadata": {
        "colab": {
          "base_uri": "https://localhost:8080/"
        },
        "id": "3AeGxC2v5Mlh",
        "outputId": "9971bf7b-1164-49de-935c-4e12648b1b3a"
      },
      "execution_count": 71,
      "outputs": [
        {
          "output_type": "stream",
          "name": "stdout",
          "text": [
            "+------------+-------------------+\n",
            "|Product Type|Total Products Sold|\n",
            "+------------+-------------------+\n",
            "|    haircare|               2160|\n",
            "|    skincare|               1719|\n",
            "|   cosmetics|               1541|\n",
            "+------------+-------------------+\n",
            "\n"
          ]
        }
      ]
    },
    {
      "cell_type": "code",
      "source": [
        "# Total Products Sold by Location for female\n",
        "q = \"\"\"\n",
        "  SELECT\n",
        "    Location,\n",
        "    ROUND(SUM(`Number of products sold`),2) AS `Total Products Sold`\n",
        "  FROM SupplyChain\n",
        "  WHERE `Customer Demographics` = 'Female'\n",
        "  GROUP BY Location\n",
        "  ORDER BY `Total Products Sold` DESC;\n",
        "\"\"\"\n",
        "spark.sql(q).show()"
      ],
      "metadata": {
        "colab": {
          "base_uri": "https://localhost:8080/"
        },
        "id": "XGGGUFL65lKy",
        "outputId": "11f7b722-0228-47a1-f345-5586c7786dcc"
      },
      "execution_count": 72,
      "outputs": [
        {
          "output_type": "stream",
          "name": "stdout",
          "text": [
            "+---------+-------------------+\n",
            "| Location|Total Products Sold|\n",
            "+---------+-------------------+\n",
            "|    Delhi|               4002|\n",
            "|  Kolkata|               3989|\n",
            "|   Mumbai|               1660|\n",
            "|  Chennai|               1620|\n",
            "|Bangalore|               1530|\n",
            "+---------+-------------------+\n",
            "\n"
          ]
        }
      ]
    },
    {
      "cell_type": "code",
      "source": [
        "# Total Products Sold by Routes on air transportation mode\n",
        "q = \"\"\"\n",
        "  SELECT\n",
        "    Routes,\n",
        "    ROUND(SUM(`Number of products sold`),2) AS `Total Products Sold`\n",
        "  FROM SupplyChain\n",
        "  WHERE `Transportation Modes` = 'Air'\n",
        "  GROUP BY Routes\n",
        "  ORDER BY `Total Products Sold` DESC;\n",
        "\"\"\"\n",
        "spark.sql(q).show()"
      ],
      "metadata": {
        "colab": {
          "base_uri": "https://localhost:8080/"
        },
        "id": "D915AyWU6LYq",
        "outputId": "8f8ea996-8d9a-449d-e2f9-4fa997820798"
      },
      "execution_count": 73,
      "outputs": [
        {
          "output_type": "stream",
          "name": "stdout",
          "text": [
            "+-------+-------------------+\n",
            "| Routes|Total Products Sold|\n",
            "+-------+-------------------+\n",
            "|Route A|               5210|\n",
            "|Route C|               2956|\n",
            "|Route B|               2716|\n",
            "+-------+-------------------+\n",
            "\n"
          ]
        }
      ]
    }
  ]
}